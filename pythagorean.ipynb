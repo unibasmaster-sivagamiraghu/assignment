{
 "cells": [
  {
   "cell_type": "markdown",
   "id": "77e09d33-ce2f-4489-87fa-0ba3fb7736b3",
   "metadata": {},
   "source": [
    "# Pythagorean Theorem\n",
    "The formula is:  \n",
    "\\( a^2 + b^2 = c^2 \\)\n",
    "Where:\n",
    "- a and b are the legs of the triangle.\n",
    "- c is the hypotenuse.\n"
   ]
  },
  {
   "cell_type": "code",
   "execution_count": 2,
   "id": "74c56675-d519-4d45-9432-9bf36d7371b4",
   "metadata": {},
   "outputs": [
    {
     "name": "stdout",
     "output_type": "stream",
     "text": [
      "33^2 + 44^2 = 55.00^2\n"
     ]
    }
   ],
   "source": [
    "import math\n",
    "\n",
    "# Input values for the legs of the triangle\n",
    "a = 33\n",
    "b = 44\n",
    "\n",
    "# Calculate the hypotenuse\n",
    "c = math.sqrt(a**2 + b**2)\n",
    "\n",
    "# Print the result in the required format\n",
    "print(f'{a}^2 + {b}^2 = {c:.2f}^2')\n"
   ]
  },
  {
   "cell_type": "code",
   "execution_count": null,
   "id": "83f9d49e",
   "metadata": {},
   "outputs": [],
   "source": []
  },
  {
   "cell_type": "markdown",
   "id": "77efbd05-b65e-4a6b-a7c7-cdc9aab929ff",
   "metadata": {},
   "source": [
    "<img src=\"Triangle.png\" alt=\"Right Triangle\" width=\"400\"/>\n"
   ]
  },
  {
   "cell_type": "markdown",
   "id": "fe11c100",
   "metadata": {},
   "source": []
  }
 ],
 "metadata": {
  "kernelspec": {
   "display_name": "Python 3 (ipykernel)",
   "language": "python",
   "name": "python3"
  },
  "language_info": {
   "codemirror_mode": {
    "name": "ipython",
    "version": 3
   },
   "file_extension": ".py",
   "mimetype": "text/x-python",
   "name": "python",
   "nbconvert_exporter": "python",
   "pygments_lexer": "ipython3",
   "version": "3.10.12"
  }
 },
 "nbformat": 4,
 "nbformat_minor": 5
}
